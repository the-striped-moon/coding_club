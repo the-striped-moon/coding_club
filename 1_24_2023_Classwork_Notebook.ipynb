{
  "nbformat": 4,
  "nbformat_minor": 0,
  "metadata": {
    "colab": {
      "provenance": [],
      "collapsed_sections": [
        "Eg2SEPvzimUx",
        "-dAMem4WjY8V",
        "NJoBSzJyn-i6"
      ],
      "include_colab_link": true
    },
    "kernelspec": {
      "name": "python3",
      "display_name": "Python 3"
    },
    "language_info": {
      "name": "python"
    }
  },
  "cells": [
    {
      "cell_type": "markdown",
      "metadata": {
        "id": "view-in-github",
        "colab_type": "text"
      },
      "source": [
        "<a href=\"https://colab.research.google.com/github/the-striped-moon/tms_coding_club/blob/main/1_24_2023_Classwork_Notebook.ipynb\" target=\"_parent\"><img src=\"https://colab.research.google.com/assets/colab-badge.svg\" alt=\"Open In Colab\"/></a>"
      ]
    },
    {
      "cell_type": "markdown",
      "source": [
        "#Week of 1.24.2023: Functions Part 1\n",
        "\n"
      ],
      "metadata": {
        "id": "K3JVwUgVElwe"
      }
    },
    {
      "cell_type": "markdown",
      "source": [
        "###Section 1: Basic Structure\n"
      ],
      "metadata": {
        "id": "0R12ultbhgeY"
      }
    },
    {
      "cell_type": "markdown",
      "source": [
        "####Problem 1.1\n",
        "\n",
        "Write a function called display_message() that prints one sentence printing out your favorite hobby and why you like it. Call the function, and make sure the message displays correctly."
      ],
      "metadata": {
        "id": "y2sDRS3xzgmS"
      }
    },
    {
      "cell_type": "code",
      "source": [
        "def display_message():\n",
        "  print(\"I like coding, because it's like a puzzle\")\n",
        "display_message()"
      ],
      "metadata": {
        "id": "v6s0wcgUg9Cg",
        "colab": {
          "base_uri": "https://localhost:8080/"
        },
        "outputId": "2fa77f66-7f3d-4a9c-cedf-096582acfbfb"
      },
      "execution_count": null,
      "outputs": [
        {
          "output_type": "stream",
          "name": "stdout",
          "text": [
            "I like coding, because it's like a puzzle\n"
          ]
        }
      ]
    },
    {
      "cell_type": "markdown",
      "source": [
        "###Section 2: Functions with parameters\n"
      ],
      "metadata": {
        "id": "Eg2SEPvzimUx"
      }
    },
    {
      "cell_type": "markdown",
      "source": [
        "#### Problem 2.1\n",
        "\n",
        "Write a function called favorite_book() that accepts one parameter, title. The function should print a message, such as \"One of my favorite books is Alice in Wonderland\". Call the function, making sure to include a book title as an argument in the function call."
      ],
      "metadata": {
        "id": "9HdiWnWmg8ei"
      }
    },
    {
      "cell_type": "code",
      "source": [],
      "metadata": {
        "id": "fSEzXtyDjCHn"
      },
      "execution_count": null,
      "outputs": []
    },
    {
      "cell_type": "markdown",
      "source": [
        "#### Problem 2.2\n",
        "\n",
        "Write a function called multiplication that takes two arguments as input and prints their product."
      ],
      "metadata": {
        "id": "DVAkE4ssjBoz"
      }
    },
    {
      "cell_type": "code",
      "source": [
        "first_num = input(\"What is your first number: \")\n",
        "second_num = input(\"What is your second number: \")\n",
        "\n",
        "def multiplication():\n",
        "  product = int(first_num) * int(second_num)\n",
        "  print(str(product))\n",
        "\n",
        "\n",
        "multiplication()\n",
        "\n",
        "def multiplication(first_num, second_num):\n",
        "  product = (first_num) * (second_num)\n",
        "  print(str(product))\n",
        "\n",
        "\n",
        "multiplication(3,5)"
      ],
      "metadata": {
        "id": "NlE-gDmDg5Ax",
        "colab": {
          "base_uri": "https://localhost:8080/"
        },
        "outputId": "5ade0d55-4f56-4fd1-8523-94fabe746ecb"
      },
      "execution_count": null,
      "outputs": [
        {
          "output_type": "stream",
          "name": "stdout",
          "text": [
            "What is your first number: 3\n",
            "What is your second number: 5\n",
            "15\n",
            "15\n"
          ]
        }
      ]
    },
    {
      "cell_type": "markdown",
      "source": [
        "#### Problem 2.3\n",
        "\n",
        "Write a function to check if a number is positive, negative, or zero. Hint: remember to conditional statements (if, elif, else)."
      ],
      "metadata": {
        "id": "utgvh-r6Db6C"
      }
    },
    {
      "cell_type": "code",
      "source": [
        "def check_type(number):\n",
        "  if number < 0:\n",
        "    print(\"Your number is less than 0\")\n",
        "  elif number > 0:\n",
        "    print(\"Your number is more than 0\")\n",
        "  else:\n",
        "    print (\"Your number is 0\")"
      ],
      "metadata": {
        "id": "lQE2fp-dFzpM"
      },
      "execution_count": null,
      "outputs": []
    },
    {
      "cell_type": "markdown",
      "source": [
        "###Section 3: Returning Basic Values\n"
      ],
      "metadata": {
        "id": "-dAMem4WjY8V"
      }
    },
    {
      "cell_type": "markdown",
      "source": [
        "#### Problem 3.1\n",
        "\n",
        "Write a function called city_country() that takes in the name of a city and its country. The function should return a string formatted like this:\n",
        "\"Santiago, Chile\"\n",
        "Call your function with at least three city-country pairs, and print the value\n",
        "that’s returned."
      ],
      "metadata": {
        "id": "2f-D_dyen_3l"
      }
    },
    {
      "cell_type": "code",
      "source": [],
      "metadata": {
        "id": "T8xD_JEjY5yf"
      },
      "execution_count": null,
      "outputs": []
    },
    {
      "cell_type": "markdown",
      "source": [
        "#### Problem 3.2\n",
        "\n",
        "Write a function called first_letter(text) that takes a string as input and returns the first letter of the string."
      ],
      "metadata": {
        "id": "0ifmUjCtzgff"
      }
    },
    {
      "cell_type": "code",
      "source": [],
      "metadata": {
        "id": "xV7vkpZaziCZ"
      },
      "execution_count": null,
      "outputs": []
    },
    {
      "cell_type": "markdown",
      "source": [
        "###Section 4: Returning Basic Values\n"
      ],
      "metadata": {
        "id": "NJoBSzJyn-i6"
      }
    },
    {
      "cell_type": "markdown",
      "source": [
        "#### Problem 4.1\n",
        "\n",
        "Square each number in a list and return the new list."
      ],
      "metadata": {
        "id": "kHCcP7vDoAd-"
      }
    },
    {
      "cell_type": "code",
      "source": [],
      "metadata": {
        "id": "br_qKhJzogDQ"
      },
      "execution_count": null,
      "outputs": []
    },
    {
      "cell_type": "markdown",
      "source": [
        "#### Problem 4.2\n",
        "\n",
        "Write a function called make_album() that builds a dictionary\n",
        "describing a music album. The function should take in an artist name and an\n",
        "album title, and it should return a dictionary containing these two pieces of\n",
        "information. Use the function to make three dictionaries representing different\n",
        "albums. Print each return value to show that the dictionaries are storing the\n",
        "album information correctly.\n"
      ],
      "metadata": {
        "id": "aR7L8h8xofmy"
      }
    },
    {
      "cell_type": "code",
      "source": [],
      "metadata": {
        "id": "oA9a1aUso1T6"
      },
      "execution_count": null,
      "outputs": []
    }
  ]
}