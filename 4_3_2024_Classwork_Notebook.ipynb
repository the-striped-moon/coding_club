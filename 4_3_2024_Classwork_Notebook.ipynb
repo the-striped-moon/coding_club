{
  "nbformat": 4,
  "nbformat_minor": 0,
  "metadata": {
    "colab": {
      "provenance": [],
      "include_colab_link": true
    },
    "kernelspec": {
      "name": "python3",
      "display_name": "Python 3"
    },
    "language_info": {
      "name": "python"
    }
  },
  "cells": [
    {
      "cell_type": "markdown",
      "metadata": {
        "id": "view-in-github",
        "colab_type": "text"
      },
      "source": [
        "<a href=\"https://colab.research.google.com/github/the-striped-moon/tms_coding_club/blob/main/4_3_2024_Classwork_Notebook.ipynb\" target=\"_parent\"><img src=\"https://colab.research.google.com/assets/colab-badge.svg\" alt=\"Open In Colab\"/></a>"
      ]
    },
    {
      "cell_type": "markdown",
      "source": [
        "##Week of 4.3.2024: Pygame\n",
        "\n",
        "\n",
        "\n"
      ],
      "metadata": {
        "id": "K3JVwUgVElwe"
      }
    },
    {
      "cell_type": "markdown",
      "source": [
        "####Problem 1.1\n",
        "\n",
        "**Text Display and Positioning:**\n",
        "Create a program that displays multiple lines of text at different positions on the screen."
      ],
      "metadata": {
        "id": "ePhz-PxCUDA5"
      }
    },
    {
      "cell_type": "code",
      "source": [],
      "metadata": {
        "id": "3rS4kxcTUJK1"
      },
      "execution_count": null,
      "outputs": []
    },
    {
      "cell_type": "markdown",
      "source": [
        "####Problem 1. 2\n",
        "\n",
        "**Text Display and Positioning:**\n",
        "Develop a program where the color of the displayed rectangle changes periodically."
      ],
      "metadata": {
        "id": "RRj-Nn8RUqWL"
      }
    },
    {
      "cell_type": "code",
      "source": [],
      "metadata": {
        "id": "sVKo17xdUy09"
      },
      "execution_count": null,
      "outputs": []
    },
    {
      "cell_type": "markdown",
      "source": [
        "####Problem 1.3\n",
        "\n",
        "**Moving a Shape with Keyboard Input:**\n",
        "Create a simple program that displays a shape (e.g., a rectangle) on the screen. Allow the user to move the shape using arrow keys or WASD keys."
      ],
      "metadata": {
        "id": "g4PQr7nLUkj1"
      }
    },
    {
      "cell_type": "code",
      "source": [],
      "metadata": {
        "id": "V2MVv0uRX_Zh"
      },
      "execution_count": null,
      "outputs": []
    },
    {
      "cell_type": "markdown",
      "source": [
        "####Problem 1.4\n",
        "**Clicking to Draw:**\n",
        "Develop a program where the user can click on the screen, and each click creates a shape at the clicked position."
      ],
      "metadata": {
        "id": "wv0ClwKJUKDK"
      }
    },
    {
      "cell_type": "code",
      "source": [],
      "metadata": {
        "id": "-vR3dwAkUKc7"
      },
      "execution_count": null,
      "outputs": []
    }
  ]
}