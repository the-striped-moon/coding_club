{
  "nbformat": 4,
  "nbformat_minor": 0,
  "metadata": {
    "colab": {
      "provenance": [],
      "include_colab_link": true
    },
    "kernelspec": {
      "name": "python3",
      "display_name": "Python 3"
    },
    "language_info": {
      "name": "python"
    }
  },
  "cells": [
    {
      "cell_type": "markdown",
      "metadata": {
        "id": "view-in-github",
        "colab_type": "text"
      },
      "source": [
        "<a href=\"https://colab.research.google.com/github/the-striped-moon/tms_coding_club/blob/main/3_6_2024_Classwork_Notebook.ipynb\" target=\"_parent\"><img src=\"https://colab.research.google.com/assets/colab-badge.svg\" alt=\"Open In Colab\"/></a>"
      ]
    },
    {
      "cell_type": "markdown",
      "source": [
        "#Week of 2.28.2023: Classes Part 4\n",
        "\n"
      ],
      "metadata": {
        "id": "K3JVwUgVElwe"
      }
    },
    {
      "cell_type": "markdown",
      "source": [
        "###Section 1: Basic Inheritance\n"
      ],
      "metadata": {
        "id": "0R12ultbhgeY"
      }
    },
    {
      "cell_type": "markdown",
      "source": [
        "####Problem 1.1\n",
        "\n",
        "Create a parent class called Restaurant with attributes like name and cuisine. An ice cream stand is a specific kind of restaurant. Write a class called IceCreamStand that inherits from the Restaurant class Add an attribute called\n",
        "flavors that stores a list of ice cream flavors. Write a method that displays\n",
        "these flavors. Create an instance of IceCreamStand, and call this method."
      ],
      "metadata": {
        "id": "KUMb3-UGB2hm"
      }
    },
    {
      "cell_type": "code",
      "source": [],
      "metadata": {
        "id": "EjdrrumAB3EH"
      },
      "execution_count": null,
      "outputs": []
    },
    {
      "cell_type": "markdown",
      "source": [
        "####Problem 1.2\n",
        "\n",
        "Create a parent class called User with attributes like last name, first name and username. An administrator is a special kind of user. Write a class called\n",
        "Admin that inherits from the User class. Add an attribute, privileges, that stores a list of strings like \"can add post\", \"can delete post\", \"can ban user\", and so on. Write a method called show_privileges() that lists the administrator’s set of privileges. Create an instance of Admin, and call your method."
      ],
      "metadata": {
        "id": "KFswEq4SPgAv"
      }
    },
    {
      "cell_type": "code",
      "source": [],
      "metadata": {
        "id": "_3erEK2iPhjM"
      },
      "execution_count": null,
      "outputs": []
    },
    {
      "cell_type": "markdown",
      "source": [
        "####Problem 1.3\n",
        "\n",
        "Create a base class Character with attributes like name, health, and attack.\n",
        "Create child classes Warrior, Mage, and Archer inheriting from Character.\n",
        "Add specific attributes and methods to each child class:\n",
        "\n",
        "*   Warrior: strenght_level, melee_attack()\n",
        "*   Mage: wisdom_level, cast_spell()\n",
        "*   Archer: experience_level, ranged_attack()\n",
        "\n",
        "Implement a describe_character() method in each child class with specific damage calculations based on attributes.\n",
        "\n"
      ],
      "metadata": {
        "id": "EiGXdjc3fY9K"
      }
    },
    {
      "cell_type": "code",
      "source": [],
      "metadata": {
        "id": "VuZ1f5MTf7_x"
      },
      "execution_count": null,
      "outputs": []
    },
    {
      "cell_type": "markdown",
      "source": [
        "###Section 2: Advanced Inheritance\n"
      ],
      "metadata": {
        "id": "dCKq22OE2AI9"
      }
    },
    {
      "cell_type": "markdown",
      "source": [
        "####Problem 2.1\n",
        "\n",
        "**Multiple Inheritance:** Create classes Employee and Student, each with their own attributes and methods. Then, create a class WorkingStudent that inherits from both Employee and Student. Implement methods to calculate the total income and workload of a WorkingStudent."
      ],
      "metadata": {
        "id": "UCxLZMon2itM"
      }
    },
    {
      "cell_type": "code",
      "source": [],
      "metadata": {
        "id": "SiU_oMtD2ocg"
      },
      "execution_count": null,
      "outputs": []
    },
    {
      "cell_type": "markdown",
      "source": [
        "####Problem 2.2\n",
        "\n",
        "**Multilevel Inheritance:** Create a class Vehicle with attributes like make and model. Then, create a class Car that inherits from Vehicle and adds attributes like number_of_doors. Finally, create an ElectricCar class that inherits from Car and adds attributes like battery_range. Implement methods to display information for each class."
      ],
      "metadata": {
        "id": "bZI18Ugu2qNO"
      }
    },
    {
      "cell_type": "code",
      "source": [],
      "metadata": {
        "id": "NnfzYa_J3KzS"
      },
      "execution_count": null,
      "outputs": []
    },
    {
      "cell_type": "markdown",
      "source": [
        "####Problem 2.3\n",
        "\n",
        "**Hierarchial Inheritance:** Shape and Square and Rectangle: Create a base class Shape with methods to calculate area and perimeter. Then, create separate classes Square and Rectangle that inherit from Shape and implement their specific area and perimeter calculations."
      ],
      "metadata": {
        "id": "W0-FxY0g3NoP"
      }
    },
    {
      "cell_type": "code",
      "source": [],
      "metadata": {
        "id": "hGqKE-1V3czQ"
      },
      "execution_count": null,
      "outputs": []
    },
    {
      "cell_type": "markdown",
      "source": [
        "####Problem 2.4\n",
        "\n",
        "**Hybrid Inheritance (advanced)**: Shape and ColoredShape and ColoredCircle: Create classes Shape, ColoredShape, and ColoredCircle. Shape has methods for calculating area and perimeter. ColoredShape has an attribute color. ColoredCircle inherits from both and calculates the area of a colored circle."
      ],
      "metadata": {
        "id": "DHcKAQZI3eBF"
      }
    },
    {
      "cell_type": "code",
      "source": [],
      "metadata": {
        "id": "J4W21HVn3i92"
      },
      "execution_count": null,
      "outputs": []
    }
  ]
}