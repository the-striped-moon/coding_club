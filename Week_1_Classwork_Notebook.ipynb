{
  "nbformat": 4,
  "nbformat_minor": 0,
  "metadata": {
    "colab": {
      "provenance": [],
      "include_colab_link": true
    },
    "kernelspec": {
      "name": "python3",
      "display_name": "Python 3"
    },
    "language_info": {
      "name": "python"
    }
  },
  "cells": [
    {
      "cell_type": "markdown",
      "metadata": {
        "id": "view-in-github",
        "colab_type": "text"
      },
      "source": [
        "<a href=\"https://colab.research.google.com/github/the-striped-moon/coding_club/blob/main/Week_1_Classwork_Notebook.ipynb\" target=\"_parent\"><img src=\"https://colab.research.google.com/assets/colab-badge.svg\" alt=\"Open In Colab\"/></a>"
      ]
    },
    {
      "cell_type": "markdown",
      "source": [
        "# **Week 1: Introduction**\n",
        "---\n",
        "\n",
        "### **Description**\n",
        "In this week, we will familiarize ourselves with Google Colab.\n",
        "\n",
        "<br>\n",
        "\n",
        "\n",
        "<br>\n",
        "\n",
        "### **Learning Objectives**\n",
        "By the end of this lab, we will:\n",
        "* Recognize how to use Google Colab to write and execute code.\n",
        "\n"
      ],
      "metadata": {
        "id": "K3JVwUgVElwe"
      }
    },
    {
      "cell_type": "markdown",
      "source": [
        "<a name=\"p1\"></a>\n",
        "\n",
        "---\n",
        "## **Part 1: Getting Familiar with Google Colab**\n",
        "---"
      ],
      "metadata": {
        "id": "vFusVI8O6sd-"
      }
    },
    {
      "cell_type": "markdown",
      "source": [
        "#### **Problem #1.1**\n",
        "\n",
        "**Together**, let's change the title of our notebook. Rename the notebook to \"Week 1-Classwork Notebook\"."
      ],
      "metadata": {
        "id": "4EgRMGgY7J-X"
      }
    },
    {
      "cell_type": "markdown",
      "source": [
        "#### **Problem #1.2**\n",
        "\n",
        "**Together**, let's create a new text cell and type: \"This is a text cell.\""
      ],
      "metadata": {
        "id": "1977NXTR78g_"
      }
    },
    {
      "cell_type": "markdown",
      "source": [
        "#### **Problem #1.3**\n",
        "\n",
        "**Together**, let's create a new code cell and type: print(\"This is a code cell.\"). Try running it next."
      ],
      "metadata": {
        "id": "7EcHRNJt8QaH"
      }
    },
    {
      "cell_type": "markdown",
      "source": [
        "#### **Problem #1.4**\n",
        "\n",
        "**Together**, let's run the code cell below."
      ],
      "metadata": {
        "id": "Lgm13Kns8Vzi"
      }
    },
    {
      "cell_type": "code",
      "source": [
        "print (\"Hello World!\")"
      ],
      "metadata": {
        "id": "se-uUU8bE-Gn",
        "colab": {
          "base_uri": "https://localhost:8080/"
        },
        "outputId": "3de2ddc2-48af-42e9-d40c-9cbb701664ac"
      },
      "execution_count": null,
      "outputs": [
        {
          "output_type": "stream",
          "name": "stdout",
          "text": [
            "Hello World!\n"
          ]
        }
      ]
    }
  ]
}