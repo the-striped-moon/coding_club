{
  "nbformat": 4,
  "nbformat_minor": 0,
  "metadata": {
    "colab": {
      "provenance": [],
      "collapsed_sections": [
        "nlLXEG6dOMnH"
      ],
      "include_colab_link": true
    },
    "kernelspec": {
      "name": "python3",
      "display_name": "Python 3"
    },
    "language_info": {
      "name": "python"
    }
  },
  "cells": [
    {
      "cell_type": "markdown",
      "metadata": {
        "id": "view-in-github",
        "colab_type": "text"
      },
      "source": [
        "<a href=\"https://colab.research.google.com/github/the-striped-moon/tms_coding_club/blob/main/12_13_2023_Classwork_Notebook.ipynb\" target=\"_parent\"><img src=\"https://colab.research.google.com/assets/colab-badge.svg\" alt=\"Open In Colab\"/></a>"
      ]
    },
    {
      "cell_type": "markdown",
      "source": [
        "**Week of 1.10.2023: while loop**\n",
        "---\n",
        "\n",
        "<br>\n",
        "\n",
        "<br>\n"
      ],
      "metadata": {
        "id": "K3JVwUgVElwe"
      }
    },
    {
      "cell_type": "markdown",
      "source": [
        "#### **Problem #1.1**\n",
        "\n",
        "**Together**, let's make a code counting from 1 to 10:"
      ],
      "metadata": {
        "id": "4EgRMGgY7J-X"
      }
    },
    {
      "cell_type": "code",
      "source": [],
      "metadata": {
        "id": "CWf_p9qSzIhz"
      },
      "execution_count": null,
      "outputs": []
    },
    {
      "cell_type": "markdown",
      "source": [
        "#### **Problem #1.2**\n",
        "\n",
        "**Independently**, print even numbers from 2 to 20"
      ],
      "metadata": {
        "id": "abpwzk4TzH2K"
      }
    },
    {
      "cell_type": "code",
      "source": [
        "\n"
      ],
      "metadata": {
        "id": "i5mYh_8YzPbq"
      },
      "execution_count": null,
      "outputs": []
    },
    {
      "cell_type": "markdown",
      "source": [
        "#### **Problem #1.3**\n",
        "\n",
        "**Independently**, print a countdown from 10 to 1!"
      ],
      "metadata": {
        "id": "QjumVEPtzOqv"
      }
    },
    {
      "cell_type": "code",
      "source": [],
      "metadata": {
        "id": "T8xD_JEjY5yf"
      },
      "execution_count": null,
      "outputs": []
    },
    {
      "cell_type": "markdown",
      "source": [
        "#### **Problem #1.4**\n",
        "\n",
        "**Independently**, printing a multiplication table for a given number using input"
      ],
      "metadata": {
        "id": "0ifmUjCtzgff"
      }
    },
    {
      "cell_type": "code",
      "source": [],
      "metadata": {
        "id": "xV7vkpZaziCZ"
      },
      "execution_count": null,
      "outputs": []
    },
    {
      "cell_type": "markdown",
      "source": [
        "#### **Problem #1.5**\n",
        "\n",
        "**Independently**, find the average of a list of numbers!"
      ],
      "metadata": {
        "id": "y2sDRS3xzgmS"
      }
    },
    {
      "cell_type": "code",
      "source": [
        "numbers = [2, 4, 6, 8, 10]"
      ],
      "metadata": {
        "id": "M_valyg_DcXC"
      },
      "execution_count": null,
      "outputs": []
    },
    {
      "cell_type": "markdown",
      "source": [
        "#### **Problem #1.6**\n",
        "\n",
        "**Together**, move items from one list to another!"
      ],
      "metadata": {
        "id": "utgvh-r6Db6C"
      }
    },
    {
      "cell_type": "code",
      "source": [],
      "metadata": {
        "id": "VabJfp7rDrTd"
      },
      "execution_count": null,
      "outputs": []
    },
    {
      "cell_type": "markdown",
      "source": [
        "#### **Problem #1.7**\n",
        "\n",
        "**Together**, fill a dictionary with user input!"
      ],
      "metadata": {
        "id": "z6kyVN-GDqu2"
      }
    },
    {
      "cell_type": "code",
      "source": [],
      "metadata": {
        "id": "evaf9YAgEY_x"
      },
      "execution_count": null,
      "outputs": []
    },
    {
      "cell_type": "markdown",
      "source": [
        "#### **Password Generator**\n",
        "\n",
        "**Together**, fill a dictionary with user input!"
      ],
      "metadata": {
        "id": "pJdE31B1EYUn"
      }
    },
    {
      "cell_type": "code",
      "source": [],
      "metadata": {
        "id": "Zs0oeDtVzinH"
      },
      "execution_count": null,
      "outputs": []
    }
  ]
}