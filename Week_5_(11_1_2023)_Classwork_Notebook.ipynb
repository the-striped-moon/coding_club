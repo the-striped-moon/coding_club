{
  "nbformat": 4,
  "nbformat_minor": 0,
  "metadata": {
    "colab": {
      "provenance": [],
      "collapsed_sections": [
        "nlLXEG6dOMnH"
      ],
      "include_colab_link": true
    },
    "kernelspec": {
      "name": "python3",
      "display_name": "Python 3"
    },
    "language_info": {
      "name": "python"
    }
  },
  "cells": [
    {
      "cell_type": "markdown",
      "metadata": {
        "id": "view-in-github",
        "colab_type": "text"
      },
      "source": [
        "<a href=\"https://colab.research.google.com/github/the-striped-moon/tms_coding_club/blob/main/Week_5_(11_1_2023)_Classwork_Notebook.ipynb\" target=\"_parent\"><img src=\"https://colab.research.google.com/assets/colab-badge.svg\" alt=\"Open In Colab\"/></a>"
      ]
    },
    {
      "cell_type": "markdown",
      "source": [
        "**Week 5: Casting Datatypes, Input, Basics of Lists**\n",
        "---\n",
        "\n",
        "<br>\n",
        "\n",
        "<br>\n",
        "\n",
        "### **Learning Objectives**\n",
        "By the end of this lab, we will:\n",
        "* Check what datatype a value is\n",
        "* Cast or change the datatype for a value\n",
        "* Take the input from a user\n",
        "* How to create a list\n",
        "* How to select a certain element from a list\n"
      ],
      "metadata": {
        "id": "K3JVwUgVElwe"
      }
    },
    {
      "cell_type": "markdown",
      "source": [
        "<a name=\"p1\"></a>\n",
        "\n",
        "---\n",
        "## **Part 1: Casting**\n",
        "---"
      ],
      "metadata": {
        "id": "vFusVI8O6sd-"
      }
    },
    {
      "cell_type": "markdown",
      "source": [
        "#### **Problem #1.1**\n",
        "\n",
        "**Together**, let's check the type of data this value is!"
      ],
      "metadata": {
        "id": "4EgRMGgY7J-X"
      }
    },
    {
      "cell_type": "code",
      "source": [
        "value = 2.0\n",
        "Week 5 (11.1.2023) Classwork Notebook"
      ],
      "metadata": {
        "id": "T8xD_JEjY5yf"
      },
      "execution_count": null,
      "outputs": []
    },
    {
      "cell_type": "markdown",
      "source": [
        "#### **Problem #1.2**\n",
        "\n",
        "**Independently**, let's check what type data this is!"
      ],
      "metadata": {
        "id": "0m36jq9PY4uY"
      }
    },
    {
      "cell_type": "code",
      "source": [
        "value = \"pizza\""
      ],
      "metadata": {
        "id": "m2RLNjUkU4iW"
      },
      "execution_count": null,
      "outputs": []
    },
    {
      "cell_type": "markdown",
      "source": [
        "#### **Problem #1.3**\n",
        "\n",
        "**Together**, let's try to run this code!"
      ],
      "metadata": {
        "id": "PAkOUDniU3vj"
      }
    },
    {
      "cell_type": "code",
      "source": [
        "num_of_apples = \"3\"\n",
        "num_of_bananas = \"5\"\n",
        "num_of_fruits = num_of_apples+num_of_bananas\n",
        "print(num_of_fruits)"
      ],
      "metadata": {
        "id": "Gxm7jMAKYzz7",
        "colab": {
          "base_uri": "https://localhost:8080/"
        },
        "outputId": "02ef330c-bdce-4ab8-a359-80b2f9b3a6f6"
      },
      "execution_count": null,
      "outputs": [
        {
          "output_type": "stream",
          "name": "stdout",
          "text": [
            "35\n"
          ]
        }
      ]
    },
    {
      "cell_type": "markdown",
      "source": [
        "#### **Problem #1.4**\n",
        "\n",
        "**Independently**, try to fix this code!"
      ],
      "metadata": {
        "id": "BebC_FRXVPy6"
      }
    },
    {
      "cell_type": "code",
      "source": [
        "length = \"3\"\n",
        "width = 5\n",
        "area = length*width\n",
        "print(area)"
      ],
      "metadata": {
        "colab": {
          "base_uri": "https://localhost:8080/"
        },
        "outputId": "02ef330c-bdce-4ab8-a359-80b2f9b3a6f6",
        "id": "bBxKmUtyVOKx"
      },
      "execution_count": null,
      "outputs": [
        {
          "output_type": "stream",
          "name": "stdout",
          "text": [
            "35\n"
          ]
        }
      ]
    },
    {
      "cell_type": "markdown",
      "source": [
        "<a name=\"p1\"></a>\n",
        "\n",
        "---\n",
        "## **Part 2: Input**\n",
        "---"
      ],
      "metadata": {
        "id": "nlLXEG6dOMnH"
      }
    },
    {
      "cell_type": "markdown",
      "source": [
        "#### **Problem #2.1**\n",
        "\n",
        "**Together**, let's create a input asking for a favorite food"
      ],
      "metadata": {
        "id": "fW0v28kFPKJI"
      }
    },
    {
      "cell_type": "code",
      "source": [],
      "metadata": {
        "id": "aKfg9lCLZJzy"
      },
      "execution_count": null,
      "outputs": []
    },
    {
      "cell_type": "markdown",
      "source": [
        "#### **Problem #2.2**\n",
        "\n",
        "**Independently**,  create inputs asking for a person's name, age, school, and favorite class. Print them out."
      ],
      "metadata": {
        "id": "3ibIHkdzZ_RY"
      }
    },
    {
      "cell_type": "code",
      "source": [],
      "metadata": {
        "id": "y4bYp0JCROef"
      },
      "execution_count": null,
      "outputs": []
    },
    {
      "cell_type": "markdown",
      "source": [
        "<a name=\"p1\"></a>\n",
        "\n",
        "---\n",
        "## **Part 3: Lists**\n",
        "---"
      ],
      "metadata": {
        "id": "n0qXNd5WZJgf"
      }
    },
    {
      "cell_type": "markdown",
      "source": [
        "#### **Problem #3.1**\n",
        "\n",
        "**Together**, let's create a list."
      ],
      "metadata": {
        "id": "8qCgk37IZJgf"
      }
    },
    {
      "cell_type": "code",
      "source": [],
      "metadata": {
        "id": "XMpr-2RcZJgf"
      },
      "execution_count": null,
      "outputs": []
    },
    {
      "cell_type": "markdown",
      "source": [
        "#### **Problem #2.2**\n",
        "\n",
        "**Together**,  let's select an element from that list."
      ],
      "metadata": {
        "id": "4o1zR2Z8ZJgg"
      }
    },
    {
      "cell_type": "code",
      "source": [],
      "metadata": {
        "id": "NBuMx9ksZJgg"
      },
      "execution_count": null,
      "outputs": []
    }
  ]
}