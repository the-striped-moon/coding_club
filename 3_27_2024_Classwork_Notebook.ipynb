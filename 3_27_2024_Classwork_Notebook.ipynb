{
  "nbformat": 4,
  "nbformat_minor": 0,
  "metadata": {
    "colab": {
      "provenance": [],
      "include_colab_link": true
    },
    "kernelspec": {
      "name": "python3",
      "display_name": "Python 3"
    },
    "language_info": {
      "name": "python"
    }
  },
  "cells": [
    {
      "cell_type": "markdown",
      "metadata": {
        "id": "view-in-github",
        "colab_type": "text"
      },
      "source": [
        "<a href=\"https://colab.research.google.com/github/the-striped-moon/tms_coding_club/blob/main/3_27_2024_Classwork_Notebook.ipynb\" target=\"_parent\"><img src=\"https://colab.research.google.com/assets/colab-badge.svg\" alt=\"Open In Colab\"/></a>"
      ]
    },
    {
      "cell_type": "markdown",
      "source": [
        "#Week of 3.27.2024: Try-Except\n",
        "\n",
        "\n",
        "\n"
      ],
      "metadata": {
        "id": "K3JVwUgVElwe"
      }
    },
    {
      "cell_type": "markdown",
      "source": [
        "###Section 1: Try-Except\n"
      ],
      "metadata": {
        "id": "dCKq22OE2AI9"
      }
    },
    {
      "cell_type": "markdown",
      "source": [
        "####Problem 2.1\n",
        "\n",
        "**User Input Validation:**\n",
        "Write code that takes an integer as input from the user. Use a Try-Except block to handle a ValueError if the user enters a non-numeric value. In the Except block, print an error message and ask the user to enter a valid integer again."
      ],
      "metadata": {
        "id": "UCxLZMon2itM"
      }
    },
    {
      "cell_type": "code",
      "source": [],
      "metadata": {
        "id": "ZWKThrHUfO_T"
      },
      "execution_count": null,
      "outputs": []
    },
    {
      "cell_type": "markdown",
      "source": [
        "####Problem 2.2\n",
        "\n",
        "**Safe Conversion (Multiple Exceptions):** Get a string from the user. Try converting it to an integer using Try-Except. Catch both ValueError (invalid format) and ZeroDivisionError (division by zero from the conversion). Print specific error messages in each Except block."
      ],
      "metadata": {
        "id": "bZI18Ugu2qNO"
      }
    },
    {
      "cell_type": "code",
      "source": [],
      "metadata": {
        "id": "NnfzYa_J3KzS"
      },
      "execution_count": null,
      "outputs": []
    },
    {
      "cell_type": "markdown",
      "source": [
        "###Section 2: Common Libraries\n"
      ],
      "metadata": {
        "id": "C6P9JlVPcoyH"
      }
    },
    {
      "cell_type": "markdown",
      "source": [
        "####Problem 2.1\n",
        "\n",
        "**Random:**\n",
        "Write a Python program that simulates a dice roll (random number between 1 and 6)."
      ],
      "metadata": {
        "id": "pOQqJqPBcqdX"
      }
    },
    {
      "cell_type": "code",
      "source": [],
      "metadata": {
        "id": "rSxYAx56czWI"
      },
      "execution_count": null,
      "outputs": []
    },
    {
      "cell_type": "markdown",
      "source": [
        "####Problem 2.2\n",
        "\n",
        "**Random:**\n",
        "Write a Python program that generates a random password of a specific length (using random.choice) containing uppercase letters, lowercase letters, and digits."
      ],
      "metadata": {
        "id": "US6nryaxc0qt"
      }
    },
    {
      "cell_type": "code",
      "source": [],
      "metadata": {
        "id": "ukvTJjrzc51I"
      },
      "execution_count": null,
      "outputs": []
    },
    {
      "cell_type": "markdown",
      "source": [
        "####Problem 2.3\n",
        "\n",
        "**Time:**\n",
        "Write a Python program that displays a countdown timer for 10 seconds (using time.sleep)."
      ],
      "metadata": {
        "id": "GIg57oWtdaA4"
      }
    },
    {
      "cell_type": "code",
      "source": [],
      "metadata": {
        "id": "rbSTJNq-daS4"
      },
      "execution_count": null,
      "outputs": []
    },
    {
      "cell_type": "markdown",
      "source": [
        "####Problem 2.4\n",
        "\n",
        "**Time:**\n",
        "Write a Python program that greets the user with a different message depending on the time of day (using time.localtime). (e.g., Good morning, Good afternoon, Good evening)"
      ],
      "metadata": {
        "id": "WG_m6ypwdbOY"
      }
    },
    {
      "cell_type": "code",
      "source": [],
      "metadata": {
        "id": "7pOtvxxBdcA4"
      },
      "execution_count": null,
      "outputs": []
    },
    {
      "cell_type": "markdown",
      "source": [
        "####Problem 2.5\n",
        "\n",
        "**Challenge**:\n",
        "Create a program that generates secure random passwords. The program should prompt the user for the desired password length, ensuring it's greater than 10 characters for better security. Utilize functions to generate random selections from various character sets, including lowercase and uppercase letters, numbers, and symbols. Include at least one character from each set to enhance strength.\n",
        "\n",
        "After that, fill the remaining password length with characters randomly chosen from the combined set. To thwart predictability, implement a shuffle function to randomize the order of characters in the final password.\n",
        "\n",
        "Display the generated password on the screen. Make sure the password is prompted to be reset every 90 days. Add more features if you wish!"
      ],
      "metadata": {
        "id": "-TNR6uFPjFOj"
      }
    },
    {
      "cell_type": "code",
      "source": [],
      "metadata": {
        "id": "qKxtFFQnjetO"
      },
      "execution_count": null,
      "outputs": []
    }
  ]
}