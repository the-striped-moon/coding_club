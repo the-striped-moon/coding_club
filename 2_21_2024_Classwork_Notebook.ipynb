{
  "nbformat": 4,
  "nbformat_minor": 0,
  "metadata": {
    "colab": {
      "provenance": [],
      "include_colab_link": true
    },
    "kernelspec": {
      "name": "python3",
      "display_name": "Python 3"
    },
    "language_info": {
      "name": "python"
    }
  },
  "cells": [
    {
      "cell_type": "markdown",
      "metadata": {
        "id": "view-in-github",
        "colab_type": "text"
      },
      "source": [
        "<a href=\"https://colab.research.google.com/github/the-striped-moon/tms_coding_club/blob/main/2_21_2024_Classwork_Notebook.ipynb\" target=\"_parent\"><img src=\"https://colab.research.google.com/assets/colab-badge.svg\" alt=\"Open In Colab\"/></a>"
      ]
    },
    {
      "cell_type": "markdown",
      "source": [
        "#Week of 2.21.2023: Functions Part 4\n",
        "\n"
      ],
      "metadata": {
        "id": "K3JVwUgVElwe"
      }
    },
    {
      "cell_type": "markdown",
      "source": [
        "###Section 1: Basic Inheritance\n"
      ],
      "metadata": {
        "id": "0R12ultbhgeY"
      }
    },
    {
      "cell_type": "markdown",
      "source": [
        "####Problem 1.1\n",
        "\n",
        "Create a simple parent class called Car with attributes like top speed, year, make, and model. Create a child class called Electric_car that inherit from Car. Don't create any extra methods or attributes for the child class. Create instances of the child class."
      ],
      "metadata": {
        "id": "iutoiN2kw8HM"
      }
    },
    {
      "cell_type": "code",
      "source": [],
      "metadata": {
        "id": "m8bxMX0pxN5m"
      },
      "execution_count": null,
      "outputs": []
    },
    {
      "cell_type": "markdown",
      "source": [
        "####Problem 1.2\n",
        "\n",
        "Create a simple parent class called Animal with attributes like name and species. Create two child classes called Dog and Cat that inherit from Animal. Add specific attributes and methods to the child classes, like breed for Dog and purr method for Cat. Create instances of the child classes and call their methods."
      ],
      "metadata": {
        "id": "zv6Zg0fKBlRE"
      }
    },
    {
      "cell_type": "code",
      "source": [],
      "metadata": {
        "id": "xm9ILXSOBl2a"
      },
      "execution_count": null,
      "outputs": []
    },
    {
      "cell_type": "markdown",
      "source": [
        "###Section 2: Inheritance with __init__ Child class\n"
      ],
      "metadata": {
        "id": "0YnhMn2nesm6"
      }
    },
    {
      "cell_type": "markdown",
      "source": [
        "####Problem 2.1\n",
        "\n",
        "Create a parent class called Restaurant with attributes like name and cuisine. An ice cream stand is a specific kind of restaurant. Write a class called IceCreamStand that inherits from the Restaurant class Add an attribute called\n",
        "flavors that stores a list of ice cream flavors. Write a method that displays\n",
        "these flavors. Create an instance of IceCreamStand, and call this method."
      ],
      "metadata": {
        "id": "KUMb3-UGB2hm"
      }
    },
    {
      "cell_type": "code",
      "source": [],
      "metadata": {
        "id": "EjdrrumAB3EH"
      },
      "execution_count": null,
      "outputs": []
    },
    {
      "cell_type": "markdown",
      "source": [
        "####Problem 2.2\n",
        "\n",
        "Create a parent class called User with attributes like last name, first name and username. An administrator is a special kind of user. Write a class called\n",
        "Admin that inherits from the User class. Add an attribute, privileges, that stores a list of strings like \"can add post\", \"can delete post\", \"can ban user\", and so on. Write a method called show_privileges() that lists the administrator’s set of privileges. Create an instance of Admin, and call your method."
      ],
      "metadata": {
        "id": "KFswEq4SPgAv"
      }
    },
    {
      "cell_type": "code",
      "source": [],
      "metadata": {
        "id": "_3erEK2iPhjM"
      },
      "execution_count": null,
      "outputs": []
    },
    {
      "cell_type": "markdown",
      "source": [
        "####Problem 2.3\n",
        "\n",
        "Create a base class Character with attributes like name, health, and attack.\n",
        "Create child classes Warrior, Mage, and Archer inheriting from Character.\n",
        "Add specific attributes and methods to each child class:\n",
        "\n",
        "*   Warrior: strenght_level, melee_attack()\n",
        "*   Mage: wisdom_level, cast_spell()\n",
        "*   Archer: experience_level, ranged_attack()\n",
        "\n",
        "Implement a describe_character() method in each child class with specific damage calculations based on attributes.\n",
        "\n"
      ],
      "metadata": {
        "id": "EiGXdjc3fY9K"
      }
    },
    {
      "cell_type": "code",
      "source": [],
      "metadata": {
        "id": "VuZ1f5MTf7_x"
      },
      "execution_count": null,
      "outputs": []
    }
  ]
}