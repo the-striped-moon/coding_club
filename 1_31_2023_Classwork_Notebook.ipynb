{
  "nbformat": 4,
  "nbformat_minor": 0,
  "metadata": {
    "colab": {
      "provenance": [],
      "include_colab_link": true
    },
    "kernelspec": {
      "name": "python3",
      "display_name": "Python 3"
    },
    "language_info": {
      "name": "python"
    }
  },
  "cells": [
    {
      "cell_type": "markdown",
      "metadata": {
        "id": "view-in-github",
        "colab_type": "text"
      },
      "source": [
        "<a href=\"https://colab.research.google.com/github/the-striped-moon/tms_coding_club/blob/main/1_31_2023_Classwork_Notebook.ipynb\" target=\"_parent\"><img src=\"https://colab.research.google.com/assets/colab-badge.svg\" alt=\"Open In Colab\"/></a>"
      ]
    },
    {
      "cell_type": "markdown",
      "source": [
        "#Week of 1.24.2023: Functions Part 1\n",
        "\n"
      ],
      "metadata": {
        "id": "K3JVwUgVElwe"
      }
    },
    {
      "cell_type": "markdown",
      "source": [],
      "metadata": {
        "id": "VSEKIZ8BSPiJ"
      }
    },
    {
      "cell_type": "markdown",
      "source": [
        "###Section 1: Basic Structure\n"
      ],
      "metadata": {
        "id": "0R12ultbhgeY"
      }
    },
    {
      "cell_type": "markdown",
      "source": [
        "####Problem 1.1\n",
        "\n",
        "Make a class called Restaurant. The class should store two attributes: a restaurant_name and a cuisine_type.\n",
        "Make a method called describe_restaurant() that prints these two pieces of\n",
        "information, and a method called open_restaurant() that prints a message indicating that the restaurant is open.\n",
        "Make an instance called restaurant from your class. Print the two attributes individually, and then call both methods."
      ],
      "metadata": {
        "id": "y2sDRS3xzgmS"
      }
    },
    {
      "cell_type": "code",
      "source": [],
      "metadata": {
        "id": "v6s0wcgUg9Cg"
      },
      "execution_count": null,
      "outputs": []
    },
    {
      "cell_type": "markdown",
      "source": [
        "####Problem 1.2\n",
        "\n",
        "Create three\n",
        "different instances from the restaurant class, and call describe_restaurant() for each instance.\n"
      ],
      "metadata": {
        "id": "iutoiN2kw8HM"
      }
    },
    {
      "cell_type": "code",
      "source": [],
      "metadata": {
        "id": "bvC20VfVw-pt"
      },
      "execution_count": null,
      "outputs": []
    },
    {
      "cell_type": "markdown",
      "source": [
        "####Problem 1.3\n",
        "\n",
        "Make a class called User. Create two attributes called first_name\n",
        "and last_name, and then create several other attributes that are typically stored\n",
        "in a user profile. Make a method called describe_user() that prints a summary\n",
        "of the user’s information. Make another method called greet_user() that prints\n",
        "a personalized greeting to the user.\n",
        "Create several instances representing different users, and call both methods\n",
        "for each user.\n"
      ],
      "metadata": {
        "id": "TlJoFhCNxIRh"
      }
    },
    {
      "cell_type": "code",
      "source": [],
      "metadata": {
        "id": "m8bxMX0pxN5m"
      },
      "execution_count": null,
      "outputs": []
    },
    {
      "cell_type": "markdown",
      "source": [
        "####Problem 1.4\n",
        "\n",
        "Define a Shape base class with an abstract area() method. Create instances for specific shapes (Circle, Rectangle, Triangle) implementing the area() method based on their formulas"
      ],
      "metadata": {
        "id": "lDNekKgjK_le"
      }
    },
    {
      "cell_type": "code",
      "source": [],
      "metadata": {
        "id": "iDKTmytoK-Od"
      },
      "execution_count": null,
      "outputs": []
    },
    {
      "cell_type": "markdown",
      "source": [
        "####Problem 1.5\n",
        "\n",
        "Create a Book class with title, author, genre, publication date, and methods to display information, lend a book (update status), and calculate age."
      ],
      "metadata": {
        "id": "LNE1gRd6Lbje"
      }
    },
    {
      "cell_type": "code",
      "source": [],
      "metadata": {
        "id": "yu1DE186LcBb"
      },
      "execution_count": null,
      "outputs": []
    }
  ]
}