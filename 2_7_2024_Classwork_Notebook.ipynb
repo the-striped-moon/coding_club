{
  "nbformat": 4,
  "nbformat_minor": 0,
  "metadata": {
    "colab": {
      "provenance": [],
      "include_colab_link": true
    },
    "kernelspec": {
      "name": "python3",
      "display_name": "Python 3"
    },
    "language_info": {
      "name": "python"
    }
  },
  "cells": [
    {
      "cell_type": "markdown",
      "metadata": {
        "id": "view-in-github",
        "colab_type": "text"
      },
      "source": [
        "<a href=\"https://colab.research.google.com/github/the-striped-moon/tms_coding_club/blob/main/2_7_2024_Classwork_Notebook.ipynb\" target=\"_parent\"><img src=\"https://colab.research.google.com/assets/colab-badge.svg\" alt=\"Open In Colab\"/></a>"
      ]
    },
    {
      "cell_type": "markdown",
      "source": [
        "#Week of 2.7.2023: Functions Part 2\n",
        "\n"
      ],
      "metadata": {
        "id": "K3JVwUgVElwe"
      }
    },
    {
      "cell_type": "markdown",
      "source": [
        "###Section 1: Basic Structure\n"
      ],
      "metadata": {
        "id": "0R12ultbhgeY"
      }
    },
    {
      "cell_type": "markdown",
      "source": [
        "####Problem 1.1\n",
        "\n",
        "Create an Animal class with attributes name, species, age, and is_adopted. Use init to set these attributes from input values."
      ],
      "metadata": {
        "id": "TlJoFhCNxIRh"
      }
    },
    {
      "cell_type": "code",
      "source": [],
      "metadata": {
        "id": "v6s0wcgUg9Cg"
      },
      "execution_count": null,
      "outputs": []
    },
    {
      "cell_type": "markdown",
      "source": [
        "####Problem 1.2\n",
        "\n",
        "Create a Movie class with attributes title, year, director, genre, and rating. Use __init__ to set these attributes from input values.\n",
        "Create methods in the Movie class to print the movie's information and calculate its age based on the current year."
      ],
      "metadata": {
        "id": "y2sDRS3xzgmS"
      }
    },
    {
      "cell_type": "code",
      "source": [],
      "metadata": {
        "id": "bvC20VfVw-pt"
      },
      "execution_count": null,
      "outputs": []
    },
    {
      "cell_type": "markdown",
      "source": [
        "####Problem 1.3\n",
        "\n",
        "Create a Dish class with attributes name, description, price, and is_vegetarian. Use init to set these attributes from input values.\n",
        "Create methods in the Dish class to print the dish's information and check if it's vegetarian.\n",
        "\n",
        "Create a separate Menu list class that stores a list of Dish objects."
      ],
      "metadata": {
        "id": "iutoiN2kw8HM"
      }
    },
    {
      "cell_type": "code",
      "source": [],
      "metadata": {
        "id": "m8bxMX0pxN5m"
      },
      "execution_count": null,
      "outputs": []
    },
    {
      "cell_type": "markdown",
      "source": [
        "###Section 2: Basic Structure\n"
      ],
      "metadata": {
        "id": "iOTGkKjoPeoW"
      }
    },
    {
      "cell_type": "markdown",
      "source": [
        "####Problem 2.1\n",
        "\n",
        " Make a class called Restaurant. The init method for\n",
        "Restaurant should store two attributes: a restaurant_name and a cuisine_type."
      ],
      "metadata": {
        "id": "KFswEq4SPgAv"
      }
    },
    {
      "cell_type": "code",
      "source": [],
      "metadata": {
        "id": "_3erEK2iPhjM"
      },
      "execution_count": null,
      "outputs": []
    },
    {
      "cell_type": "markdown",
      "source": [
        "####Problem 2.2\n",
        "\n",
        "Add an attribute called number_served with a default value of 0. Create an\n",
        "instance called restaurant from this class. Print the number of customers the\n",
        "restaurant has served, and then change this value and print it again."
      ],
      "metadata": {
        "id": "8KUMcGljPrsi"
      }
    },
    {
      "cell_type": "code",
      "source": [],
      "metadata": {
        "id": "GTyD5ug_P6X4"
      },
      "execution_count": null,
      "outputs": []
    },
    {
      "cell_type": "markdown",
      "source": [
        "####Problem 2.3\n",
        "\n",
        "Add a method called increment_number_served() that lets you increment\n",
        "the number of customers who’ve been served. Call this method with any number you like that could represent how many customers were served in, say, a\n",
        "day of business"
      ],
      "metadata": {
        "id": "siT23DLRP7PT"
      }
    },
    {
      "cell_type": "code",
      "source": [],
      "metadata": {
        "id": "dOF5EIhjP_25"
      },
      "execution_count": null,
      "outputs": []
    },
    {
      "cell_type": "markdown",
      "source": [
        "####Problem 2.4\n",
        "\n",
        "Make a class called User. Create two attributes called first_name and\n",
        "and last_name. Make a method called describe_user() that prints a summary of the user’s information. Make another method called greet_user() that prints a personalized greeting to the user."
      ],
      "metadata": {
        "id": "esNUNFmqQBA1"
      }
    },
    {
      "cell_type": "code",
      "source": [],
      "metadata": {
        "id": "HlIt5LXrQLXg"
      },
      "execution_count": null,
      "outputs": []
    },
    {
      "cell_type": "markdown",
      "source": [
        "####Problem 2.4\n",
        "\n",
        "Add an attribute called login_attempts to your User\n",
        ". Write a method called increment_\n",
        "login_attempts() that increments the value of login_attempts by 1. Write\n",
        "another method called reset_login_attempts() that resets the value of login_\n",
        "attempts to 0."
      ],
      "metadata": {
        "id": "zI-QOZRbQTYx"
      }
    },
    {
      "cell_type": "code",
      "source": [],
      "metadata": {
        "id": "P3bTPOmOQeYH"
      },
      "execution_count": null,
      "outputs": []
    }
  ]
}